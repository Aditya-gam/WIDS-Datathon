{
 "cells": [
  {
   "cell_type": "code",
   "execution_count": 1,
   "metadata": {
    "_cell_guid": "b1076dfc-b9ad-4769-8c92-a6c4dae69d19",
    "_uuid": "8f2839f25d086af736a60e9eeb907d3b93b6e0e5",
    "execution": {
     "iopub.execute_input": "2024-01-24T04:28:47.758066Z",
     "iopub.status.busy": "2024-01-24T04:28:47.757540Z",
     "iopub.status.idle": "2024-01-24T04:28:48.202286Z",
     "shell.execute_reply": "2024-01-24T04:28:48.201110Z",
     "shell.execute_reply.started": "2024-01-24T04:28:47.758023Z"
    }
   },
   "outputs": [],
   "source": [
    "# # This Python 3 environment comes with many helpful analytics libraries installed\n",
    "# # It is defined by the kaggle/python Docker image: https://github.com/kaggle/docker-python\n",
    "# # For example, here's several helpful packages to load\n",
    "\n",
    "# import numpy as np # linear algebra\n",
    "# import pandas as pd # data processing, CSV file I/O (e.g. pd.read_csv)\n",
    "\n",
    "# # Input data files are available in the read-only \"../input/\" directory\n",
    "# # For example, running this (by clicking run or pressing Shift+Enter) will list all files under the input directory\n",
    "\n",
    "# import os\n",
    "# for dirname, _, filenames in os.walk('/kaggle/input'):\n",
    "#     for filename in filenames:\n",
    "#         print(os.path.join(dirname, filename))\n",
    "\n",
    "# # You can write up to 20GB to the current directory (/kaggle/working/) that gets preserved as output when you create a version using \"Save & Run All\" \n",
    "# # You can also write temporary files to /kaggle/temp/, but they won't be saved outside of the current session"
   ]
  },
  {
   "cell_type": "markdown",
   "metadata": {},
   "source": [
    "# Import Libraries"
   ]
  },
  {
   "cell_type": "code",
   "execution_count": 2,
   "metadata": {
    "execution": {
     "iopub.execute_input": "2024-01-24T04:28:48.208808Z",
     "iopub.status.busy": "2024-01-24T04:28:48.208454Z",
     "iopub.status.idle": "2024-01-24T04:28:48.213410Z",
     "shell.execute_reply": "2024-01-24T04:28:48.212516Z",
     "shell.execute_reply.started": "2024-01-24T04:28:48.208772Z"
    }
   },
   "outputs": [],
   "source": [
    "#Install Required Libraries\n",
    "# !pip install numpy pandas torch torchvision "
   ]
  },
  {
   "cell_type": "code",
   "execution_count": 3,
   "metadata": {
    "execution": {
     "iopub.execute_input": "2024-01-24T04:36:04.797932Z",
     "iopub.status.busy": "2024-01-24T04:36:04.797490Z",
     "iopub.status.idle": "2024-01-24T04:36:04.884096Z",
     "shell.execute_reply": "2024-01-24T04:36:04.882714Z",
     "shell.execute_reply.started": "2024-01-24T04:36:04.797896Z"
    }
   },
   "outputs": [],
   "source": [
    "import numpy as np\n",
    "import pandas as pd\n",
    "import matplotlib.pyplot as plt\n",
    "import seaborn as sns\n",
    "\n",
    "from sklearn.preprocessing import LabelEncoder\n",
    "\n",
    "import torch\n",
    "import torchvision"
   ]
  },
  {
   "cell_type": "markdown",
   "metadata": {},
   "source": [
    "# Import Dataset"
   ]
  },
  {
   "cell_type": "code",
   "execution_count": 4,
   "metadata": {
    "execution": {
     "iopub.execute_input": "2024-01-24T04:28:50.849580Z",
     "iopub.status.busy": "2024-01-24T04:28:50.849010Z",
     "iopub.status.idle": "2024-01-24T04:28:51.247547Z",
     "shell.execute_reply": "2024-01-24T04:28:51.246206Z",
     "shell.execute_reply.started": "2024-01-24T04:28:50.849530Z"
    }
   },
   "outputs": [],
   "source": [
    "train_df = pd.read_csv('./Data/training.csv')\n",
    "test_df = pd.read_csv('./Data/test.csv')"
   ]
  },
  {
   "cell_type": "code",
   "execution_count": 5,
   "metadata": {
    "execution": {
     "iopub.execute_input": "2024-01-24T04:28:51.249510Z",
     "iopub.status.busy": "2024-01-24T04:28:51.249163Z",
     "iopub.status.idle": "2024-01-24T04:28:51.260287Z",
     "shell.execute_reply": "2024-01-24T04:28:51.259019Z",
     "shell.execute_reply.started": "2024-01-24T04:28:51.249480Z"
    }
   },
   "outputs": [],
   "source": [
    "# Create copies of the original DataFrames\n",
    "df = train_df.copy()\n",
    "df_t = test_df.copy()"
   ]
  },
  {
   "cell_type": "markdown",
   "metadata": {},
   "source": [
    "# Data Exploration"
   ]
  },
  {
   "cell_type": "code",
   "execution_count": 6,
   "metadata": {
    "execution": {
     "iopub.execute_input": "2024-01-24T04:28:51.262309Z",
     "iopub.status.busy": "2024-01-24T04:28:51.261907Z",
     "iopub.status.idle": "2024-01-24T04:28:51.283855Z",
     "shell.execute_reply": "2024-01-24T04:28:51.282534Z",
     "shell.execute_reply.started": "2024-01-24T04:28:51.262277Z"
    }
   },
   "outputs": [
    {
     "name": "stdout",
     "output_type": "stream",
     "text": [
      "First few rows of the dataset:\n",
      "   patient_id patient_race  payer_type patient_state  patient_zip3  \\\n",
      "0      475714          NaN    MEDICAID            CA           924   \n",
      "1      349367        White  COMMERCIAL            CA           928   \n",
      "2      138632        White  COMMERCIAL            TX           760   \n",
      "3      617843        White  COMMERCIAL            CA           926   \n",
      "4      817482          NaN  COMMERCIAL            ID           836   \n",
      "\n",
      "   patient_age patient_gender    bmi breast_cancer_diagnosis_code  \\\n",
      "0           84              F    NaN                       C50919   \n",
      "1           62              F  28.49                       C50411   \n",
      "2           43              F  38.09                       C50112   \n",
      "3           45              F    NaN                       C50212   \n",
      "4           55              F    NaN                         1749   \n",
      "\n",
      "                        breast_cancer_diagnosis_desc  ...   disabled  \\\n",
      "0  Malignant neoplasm of unsp site of unspecified...  ...  12.871429   \n",
      "1  Malig neoplm of upper-outer quadrant of right ...  ...   8.957576   \n",
      "2  Malignant neoplasm of central portion of left ...  ...  11.253333   \n",
      "3  Malig neoplasm of upper-inner quadrant of left...  ...   8.845238   \n",
      "4  Malignant neoplasm of breast (female), unspeci...  ...  15.276000   \n",
      "\n",
      "     poverty limited_english commute_time health_uninsured    veteran  \\\n",
      "0  22.542857       10.100000    27.814286        11.200000   3.500000   \n",
      "1  10.109091        8.057576    30.606061         7.018182   4.103030   \n",
      "2   9.663333        3.356667    31.394915        15.066667   7.446667   \n",
      "3   8.688095        5.280952    27.561905         4.404762   4.809524   \n",
      "4  11.224000        1.946000    26.170213        12.088000  13.106000   \n",
      "\n",
      "       Ozone      PM25        N02  DiagPeriodL90D  \n",
      "0  52.237210  8.650555  18.606528               1  \n",
      "1  42.301121  8.487175  20.113179               1  \n",
      "2  40.108207  7.642753  14.839351               1  \n",
      "3  42.070075  7.229393  15.894123               0  \n",
      "4  41.356058  4.110749  11.722197               0  \n",
      "\n",
      "[5 rows x 83 columns]\n"
     ]
    }
   ],
   "source": [
    "df.head()# Display the first few rows of the dataset\n",
    "print(\"First few rows of the dataset:\")\n",
    "print(df.head())"
   ]
  },
  {
   "cell_type": "code",
   "execution_count": 7,
   "metadata": {
    "execution": {
     "iopub.execute_input": "2024-01-24T04:28:51.286380Z",
     "iopub.status.busy": "2024-01-24T04:28:51.285886Z",
     "iopub.status.idle": "2024-01-24T04:28:51.519140Z",
     "shell.execute_reply": "2024-01-24T04:28:51.518023Z",
     "shell.execute_reply.started": "2024-01-24T04:28:51.286336Z"
    }
   },
   "outputs": [
    {
     "name": "stdout",
     "output_type": "stream",
     "text": [
      "\n",
      "Summary statistics of numerical columns:\n",
      "          patient_id  patient_zip3   patient_age          bmi    population  \\\n",
      "count   12906.000000  12906.000000  12906.000000  3941.000000  12905.000000   \n",
      "mean   547381.196033    573.754300     59.183326    28.984539  20744.441237   \n",
      "std    260404.959974    275.447534     13.335216     5.696906  13886.903756   \n",
      "min    100063.000000    101.000000     18.000000    14.000000    635.545455   \n",
      "25%    321517.000000    331.000000     50.000000    24.660000   9463.896552   \n",
      "50%    543522.000000    554.000000     59.000000    28.190000  19154.190480   \n",
      "75%    772671.750000    846.000000     67.000000    32.920000  30021.278690   \n",
      "max    999896.000000    999.000000     91.000000    85.000000  71374.131580   \n",
      "\n",
      "            density    age_median  age_under_10  age_10_to_19       age_20s  \\\n",
      "count  12905.000000  12905.000000  12905.000000  12905.000000  12905.000000   \n",
      "mean    1581.950419     40.502259     11.122784     12.945265     13.290376   \n",
      "std     2966.305306      4.036963      1.512376      1.923974      3.354103   \n",
      "min        0.916667     20.600000      0.000000      6.314286      5.925000   \n",
      "25%      171.857143     37.129825     10.160000     11.741176     11.013415   \n",
      "50%      700.337500     40.639344     11.039216     12.923944     12.538095   \n",
      "75%     1666.515385     42.934783     12.190000     14.019767     14.971053   \n",
      "max    21172.000000     54.570000     17.675000     35.300000     62.100000   \n",
      "\n",
      "       ...      disabled       poverty  limited_english  commute_time  \\\n",
      "count  ...  12905.000000  12902.000000     12902.000000  12905.000000   \n",
      "mean   ...     13.335299     13.406950         4.474956     27.978387   \n",
      "std    ...      3.690949      5.222495         4.837085      5.083939   \n",
      "min    ...      4.600000      3.433333         0.000000     12.460784   \n",
      "25%    ...     10.270492      9.663333         0.994444     24.933333   \n",
      "50%    ...     12.884000     12.177778         2.747222     27.788235   \n",
      "75%    ...     15.555405     16.635556         5.976000     30.709375   \n",
      "max    ...     35.155556     38.347826        26.755000     48.020000   \n",
      "\n",
      "       health_uninsured       veteran         Ozone          PM25  \\\n",
      "count      12905.000000  12905.000000  12877.000000  12877.000000   \n",
      "mean           8.575284      7.083376     39.822352      7.475221   \n",
      "std            4.203482      3.109022      3.559492      1.516499   \n",
      "min            2.440000      1.200000     30.939316      2.636008   \n",
      "25%            5.618750      4.929688     37.698880      6.651215   \n",
      "50%            7.465714      6.847059     39.108249      7.686577   \n",
      "75%           10.617442      8.620000     41.136513      8.276922   \n",
      "max           27.566102     25.200000     52.237210     11.169408   \n",
      "\n",
      "                N02  DiagPeriodL90D  \n",
      "count  12877.000000    12906.000000  \n",
      "mean      16.098988        0.624516  \n",
      "std        5.842501        0.484266  \n",
      "min        2.760371        0.000000  \n",
      "25%       11.280694        0.000000  \n",
      "50%       15.589148        1.000000  \n",
      "75%       20.801880        1.000000  \n",
      "max       31.504775        1.000000  \n",
      "\n",
      "[8 rows x 72 columns]\n"
     ]
    }
   ],
   "source": [
    "# Summary statistics of the numerical columns\n",
    "print(\"\\nSummary statistics of numerical columns:\")\n",
    "print(df.describe())"
   ]
  },
  {
   "cell_type": "code",
   "execution_count": 8,
   "metadata": {
    "execution": {
     "iopub.execute_input": "2024-01-24T04:28:51.521928Z",
     "iopub.status.busy": "2024-01-24T04:28:51.521604Z",
     "iopub.status.idle": "2024-01-24T04:28:51.557161Z",
     "shell.execute_reply": "2024-01-24T04:28:51.556012Z",
     "shell.execute_reply.started": "2024-01-24T04:28:51.521899Z"
    }
   },
   "outputs": [
    {
     "name": "stdout",
     "output_type": "stream",
     "text": [
      "\n",
      "Information about the dataset:\n",
      "<class 'pandas.core.frame.DataFrame'>\n",
      "RangeIndex: 12906 entries, 0 to 12905\n",
      "Data columns (total 83 columns):\n",
      " #   Column                                 Non-Null Count  Dtype  \n",
      "---  ------                                 --------------  -----  \n",
      " 0   patient_id                             12906 non-null  int64  \n",
      " 1   patient_race                           6521 non-null   object \n",
      " 2   payer_type                             11103 non-null  object \n",
      " 3   patient_state                          12855 non-null  object \n",
      " 4   patient_zip3                           12906 non-null  int64  \n",
      " 5   patient_age                            12906 non-null  int64  \n",
      " 6   patient_gender                         12906 non-null  object \n",
      " 7   bmi                                    3941 non-null   float64\n",
      " 8   breast_cancer_diagnosis_code           12906 non-null  object \n",
      " 9   breast_cancer_diagnosis_desc           12906 non-null  object \n",
      " 10  metastatic_cancer_diagnosis_code       12906 non-null  object \n",
      " 11  metastatic_first_novel_treatment       24 non-null     object \n",
      " 12  metastatic_first_novel_treatment_type  24 non-null     object \n",
      " 13  Region                                 12854 non-null  object \n",
      " 14  Division                               12854 non-null  object \n",
      " 15  population                             12905 non-null  float64\n",
      " 16  density                                12905 non-null  float64\n",
      " 17  age_median                             12905 non-null  float64\n",
      " 18  age_under_10                           12905 non-null  float64\n",
      " 19  age_10_to_19                           12905 non-null  float64\n",
      " 20  age_20s                                12905 non-null  float64\n",
      " 21  age_30s                                12905 non-null  float64\n",
      " 22  age_40s                                12905 non-null  float64\n",
      " 23  age_50s                                12905 non-null  float64\n",
      " 24  age_60s                                12905 non-null  float64\n",
      " 25  age_70s                                12905 non-null  float64\n",
      " 26  age_over_80                            12905 non-null  float64\n",
      " 27  male                                   12905 non-null  float64\n",
      " 28  female                                 12905 non-null  float64\n",
      " 29  married                                12905 non-null  float64\n",
      " 30  divorced                               12905 non-null  float64\n",
      " 31  never_married                          12905 non-null  float64\n",
      " 32  widowed                                12905 non-null  float64\n",
      " 33  family_size                            12902 non-null  float64\n",
      " 34  family_dual_income                     12902 non-null  float64\n",
      " 35  income_household_median                12902 non-null  float64\n",
      " 36  income_household_under_5               12902 non-null  float64\n",
      " 37  income_household_5_to_10               12902 non-null  float64\n",
      " 38  income_household_10_to_15              12902 non-null  float64\n",
      " 39  income_household_15_to_20              12902 non-null  float64\n",
      " 40  income_household_20_to_25              12902 non-null  float64\n",
      " 41  income_household_25_to_35              12902 non-null  float64\n",
      " 42  income_household_35_to_50              12902 non-null  float64\n",
      " 43  income_household_50_to_75              12902 non-null  float64\n",
      " 44  income_household_75_to_100             12902 non-null  float64\n",
      " 45  income_household_100_to_150            12902 non-null  float64\n",
      " 46  income_household_150_over              12902 non-null  float64\n",
      " 47  income_household_six_figure            12902 non-null  float64\n",
      " 48  income_individual_median               12905 non-null  float64\n",
      " 49  home_ownership                         12902 non-null  float64\n",
      " 50  housing_units                          12905 non-null  float64\n",
      " 51  home_value                             12902 non-null  float64\n",
      " 52  rent_median                            12902 non-null  float64\n",
      " 53  rent_burden                            12902 non-null  float64\n",
      " 54  education_less_highschool              12905 non-null  float64\n",
      " 55  education_highschool                   12905 non-null  float64\n",
      " 56  education_some_college                 12905 non-null  float64\n",
      " 57  education_bachelors                    12905 non-null  float64\n",
      " 58  education_graduate                     12905 non-null  float64\n",
      " 59  education_college_or_above             12905 non-null  float64\n",
      " 60  education_stem_degree                  12905 non-null  float64\n",
      " 61  labor_force_participation              12905 non-null  float64\n",
      " 62  unemployment_rate                      12905 non-null  float64\n",
      " 63  self_employed                          12902 non-null  float64\n",
      " 64  farmer                                 12902 non-null  float64\n",
      " 65  race_white                             12905 non-null  float64\n",
      " 66  race_black                             12905 non-null  float64\n",
      " 67  race_asian                             12905 non-null  float64\n",
      " 68  race_native                            12905 non-null  float64\n",
      " 69  race_pacific                           12905 non-null  float64\n",
      " 70  race_other                             12905 non-null  float64\n",
      " 71  race_multiple                          12905 non-null  float64\n",
      " 72  hispanic                               12905 non-null  float64\n",
      " 73  disabled                               12905 non-null  float64\n",
      " 74  poverty                                12902 non-null  float64\n",
      " 75  limited_english                        12902 non-null  float64\n",
      " 76  commute_time                           12905 non-null  float64\n",
      " 77  health_uninsured                       12905 non-null  float64\n",
      " 78  veteran                                12905 non-null  float64\n",
      " 79  Ozone                                  12877 non-null  float64\n",
      " 80  PM25                                   12877 non-null  float64\n",
      " 81  N02                                    12877 non-null  float64\n",
      " 82  DiagPeriodL90D                         12906 non-null  int64  \n",
      "dtypes: float64(68), int64(4), object(11)\n",
      "memory usage: 8.2+ MB\n",
      "None\n"
     ]
    }
   ],
   "source": [
    "# Information about the dataset, including data types and missing values\n",
    "print(\"\\nInformation about the dataset:\")\n",
    "print(df.info())"
   ]
  },
  {
   "cell_type": "code",
   "execution_count": 9,
   "metadata": {
    "execution": {
     "iopub.execute_input": "2024-01-24T04:28:51.559183Z",
     "iopub.status.busy": "2024-01-24T04:28:51.558800Z",
     "iopub.status.idle": "2024-01-24T04:28:51.582011Z",
     "shell.execute_reply": "2024-01-24T04:28:51.581038Z",
     "shell.execute_reply.started": "2024-01-24T04:28:51.559151Z"
    }
   },
   "outputs": [
    {
     "name": "stdout",
     "output_type": "stream",
     "text": [
      "\n",
      "Missing values in each column:\n",
      "patient_id           0\n",
      "patient_race      6385\n",
      "payer_type        1803\n",
      "patient_state       51\n",
      "patient_zip3         0\n",
      "                  ... \n",
      "veteran              1\n",
      "Ozone               29\n",
      "PM25                29\n",
      "N02                 29\n",
      "DiagPeriodL90D       0\n",
      "Length: 83, dtype: int64\n"
     ]
    }
   ],
   "source": [
    "# Check for missing values in each column\n",
    "print(\"\\nMissing values in each column:\")\n",
    "print(df.isnull().sum())"
   ]
  },
  {
   "cell_type": "code",
   "execution_count": 10,
   "metadata": {
    "execution": {
     "iopub.execute_input": "2024-01-24T04:28:51.583772Z",
     "iopub.status.busy": "2024-01-24T04:28:51.583419Z",
     "iopub.status.idle": "2024-01-24T04:28:51.624458Z",
     "shell.execute_reply": "2024-01-24T04:28:51.622516Z",
     "shell.execute_reply.started": "2024-01-24T04:28:51.583742Z"
    }
   },
   "outputs": [
    {
     "name": "stdout",
     "output_type": "stream",
     "text": [
      "\n",
      "Unique values in each column:\n",
      "patient_id: 12906 unique values\n",
      "patient_race: 5 unique values\n",
      "payer_type: 3 unique values\n",
      "patient_state: 50 unique values\n",
      "patient_zip3: 739 unique values\n",
      "patient_age: 67 unique values\n",
      "patient_gender: 1 unique values\n",
      "bmi: 1342 unique values\n",
      "breast_cancer_diagnosis_code: 50 unique values\n",
      "breast_cancer_diagnosis_desc: 50 unique values\n",
      "metastatic_cancer_diagnosis_code: 43 unique values\n",
      "metastatic_first_novel_treatment: 2 unique values\n",
      "metastatic_first_novel_treatment_type: 1 unique values\n",
      "Region: 4 unique values\n",
      "Division: 9 unique values\n",
      "population: 738 unique values\n",
      "density: 738 unique values\n",
      "age_median: 728 unique values\n",
      "age_under_10: 718 unique values\n",
      "age_10_to_19: 725 unique values\n",
      "age_20s: 724 unique values\n",
      "age_30s: 725 unique values\n",
      "age_40s: 715 unique values\n",
      "age_50s: 720 unique values\n",
      "age_60s: 725 unique values\n",
      "age_70s: 720 unique values\n",
      "age_over_80: 706 unique values\n",
      "male: 722 unique values\n",
      "female: 724 unique values\n",
      "married: 732 unique values\n",
      "divorced: 718 unique values\n",
      "never_married: 736 unique values\n",
      "widowed: 719 unique values\n",
      "family_size: 716 unique values\n",
      "family_dual_income: 731 unique values\n",
      "income_household_median: 737 unique values\n",
      "income_household_under_5: 712 unique values\n",
      "income_household_5_to_10: 708 unique values\n",
      "income_household_10_to_15: 716 unique values\n",
      "income_household_15_to_20: 710 unique values\n",
      "income_household_20_to_25: 716 unique values\n",
      "income_household_25_to_35: 720 unique values\n",
      "income_household_35_to_50: 721 unique values\n",
      "income_household_50_to_75: 725 unique values\n",
      "income_household_75_to_100: 714 unique values\n",
      "income_household_100_to_150: 725 unique values\n",
      "income_household_150_over: 734 unique values\n",
      "income_household_six_figure: 734 unique values\n",
      "income_individual_median: 738 unique values\n",
      "home_ownership: 737 unique values\n",
      "housing_units: 738 unique values\n",
      "home_value: 737 unique values\n",
      "rent_median: 736 unique values\n",
      "rent_burden: 725 unique values\n",
      "education_less_highschool: 728 unique values\n",
      "education_highschool: 732 unique values\n",
      "education_some_college: 731 unique values\n",
      "education_bachelors: 734 unique values\n",
      "education_graduate: 732 unique values\n",
      "education_college_or_above: 737 unique values\n",
      "education_stem_degree: 729 unique values\n",
      "labor_force_participation: 733 unique values\n",
      "unemployment_rate: 714 unique values\n",
      "self_employed: 725 unique values\n",
      "farmer: 657 unique values\n",
      "race_white: 735 unique values\n",
      "race_black: 732 unique values\n",
      "race_asian: 718 unique values\n",
      "race_native: 655 unique values\n",
      "race_pacific: 506 unique values\n",
      "race_other: 713 unique values\n",
      "race_multiple: 730 unique values\n",
      "hispanic: 733 unique values\n",
      "disabled: 727 unique values\n",
      "poverty: 731 unique values\n",
      "limited_english: 715 unique values\n",
      "commute_time: 733 unique values\n",
      "health_uninsured: 727 unique values\n",
      "veteran: 727 unique values\n",
      "Ozone: 733 unique values\n",
      "PM25: 733 unique values\n",
      "N02: 733 unique values\n",
      "DiagPeriodL90D: 2 unique values\n"
     ]
    }
   ],
   "source": [
    "# Unique values in each column\n",
    "print(\"\\nUnique values in each column:\")\n",
    "for column in df.columns:\n",
    "    print(f\"{column}: {df[column].nunique()} unique values\")"
   ]
  },
  {
   "cell_type": "markdown",
   "metadata": {},
   "source": [
    "## Check For Duplicates"
   ]
  },
  {
   "cell_type": "code",
   "execution_count": 11,
   "metadata": {
    "execution": {
     "iopub.execute_input": "2024-01-24T04:28:51.626339Z",
     "iopub.status.busy": "2024-01-24T04:28:51.625986Z",
     "iopub.status.idle": "2024-01-24T04:28:51.749453Z",
     "shell.execute_reply": "2024-01-24T04:28:51.748331Z",
     "shell.execute_reply.started": "2024-01-24T04:28:51.626307Z"
    }
   },
   "outputs": [
    {
     "name": "stdout",
     "output_type": "stream",
     "text": [
      "\n",
      "Shape of training dataset before removing duplicates: (12906, 83)\n",
      "Shape of training dataset after removing duplicates: (12906, 83)\n"
     ]
    }
   ],
   "source": [
    "# Check for duplicates in the training dataset\n",
    "train_duplicates = df[df.duplicated()]\n",
    "\n",
    "# No Duplicates Found\n",
    "# print(\"Duplicate rows in training dataset:\")\n",
    "# print(train_duplicates)\n",
    "\n",
    "# Print the shape of the training dataset before removing duplicates\n",
    "print(\"\\nShape of training dataset before removing duplicates:\", df.shape)\n",
    "\n",
    "# Remove duplicates in the training dataset and keep the first occurrence\n",
    "df = df.drop_duplicates()\n",
    "\n",
    "# Print the shape of the training dataset after removing duplicates\n",
    "print(\"Shape of training dataset after removing duplicates:\", df.shape)\n"
   ]
  },
  {
   "cell_type": "markdown",
   "metadata": {},
   "source": [
    "# Feature Exploration and Engineering"
   ]
  },
  {
   "cell_type": "code",
   "execution_count": 37,
   "metadata": {
    "scrolled": false
   },
   "outputs": [
    {
     "name": "stdout",
     "output_type": "stream",
     "text": [
      "<class 'pandas.core.frame.DataFrame'>\n",
      "RangeIndex: 12906 entries, 0 to 12905\n",
      "Data columns (total 6 columns):\n",
      " #   Column        Non-Null Count  Dtype  \n",
      "---  ------        --------------  -----  \n",
      " 0   patient_zip3  12906 non-null  int64  \n",
      " 1   population    12905 non-null  float64\n",
      " 2   density       12905 non-null  float64\n",
      " 3   age_median    12905 non-null  float64\n",
      " 4   male          12905 non-null  float64\n",
      " 5   female        12905 non-null  float64\n",
      "dtypes: float64(5), int64(1)\n",
      "memory usage: 605.1 KB\n",
      "None\n"
     ]
    },
    {
     "data": {
      "text/html": [
       "<div>\n",
       "<style scoped>\n",
       "    .dataframe tbody tr th:only-of-type {\n",
       "        vertical-align: middle;\n",
       "    }\n",
       "\n",
       "    .dataframe tbody tr th {\n",
       "        vertical-align: top;\n",
       "    }\n",
       "\n",
       "    .dataframe thead th {\n",
       "        text-align: right;\n",
       "    }\n",
       "</style>\n",
       "<table border=\"1\" class=\"dataframe\">\n",
       "  <thead>\n",
       "    <tr style=\"text-align: right;\">\n",
       "      <th></th>\n",
       "      <th>patient_zip3</th>\n",
       "      <th>population</th>\n",
       "      <th>density</th>\n",
       "      <th>age_median</th>\n",
       "      <th>male</th>\n",
       "      <th>female</th>\n",
       "    </tr>\n",
       "  </thead>\n",
       "  <tbody>\n",
       "    <tr>\n",
       "      <th>count</th>\n",
       "      <td>12906.000000</td>\n",
       "      <td>12905.000000</td>\n",
       "      <td>12905.000000</td>\n",
       "      <td>12905.000000</td>\n",
       "      <td>12905.000000</td>\n",
       "      <td>12905.000000</td>\n",
       "    </tr>\n",
       "    <tr>\n",
       "      <th>mean</th>\n",
       "      <td>573.754300</td>\n",
       "      <td>20744.441237</td>\n",
       "      <td>1581.950419</td>\n",
       "      <td>40.502259</td>\n",
       "      <td>50.095180</td>\n",
       "      <td>49.904900</td>\n",
       "    </tr>\n",
       "    <tr>\n",
       "      <th>std</th>\n",
       "      <td>275.447534</td>\n",
       "      <td>13886.903756</td>\n",
       "      <td>2966.305306</td>\n",
       "      <td>4.036963</td>\n",
       "      <td>1.656640</td>\n",
       "      <td>1.656594</td>\n",
       "    </tr>\n",
       "    <tr>\n",
       "      <th>min</th>\n",
       "      <td>101.000000</td>\n",
       "      <td>635.545455</td>\n",
       "      <td>0.916667</td>\n",
       "      <td>20.600000</td>\n",
       "      <td>39.725000</td>\n",
       "      <td>38.400000</td>\n",
       "    </tr>\n",
       "    <tr>\n",
       "      <th>25%</th>\n",
       "      <td>331.000000</td>\n",
       "      <td>9463.896552</td>\n",
       "      <td>171.857143</td>\n",
       "      <td>37.129825</td>\n",
       "      <td>49.158333</td>\n",
       "      <td>49.062069</td>\n",
       "    </tr>\n",
       "    <tr>\n",
       "      <th>50%</th>\n",
       "      <td>554.000000</td>\n",
       "      <td>19154.190480</td>\n",
       "      <td>700.337500</td>\n",
       "      <td>40.639344</td>\n",
       "      <td>49.976042</td>\n",
       "      <td>50.023958</td>\n",
       "    </tr>\n",
       "    <tr>\n",
       "      <th>75%</th>\n",
       "      <td>846.000000</td>\n",
       "      <td>30021.278690</td>\n",
       "      <td>1666.515385</td>\n",
       "      <td>42.934783</td>\n",
       "      <td>50.937931</td>\n",
       "      <td>50.841667</td>\n",
       "    </tr>\n",
       "    <tr>\n",
       "      <th>max</th>\n",
       "      <td>999.000000</td>\n",
       "      <td>71374.131580</td>\n",
       "      <td>21172.000000</td>\n",
       "      <td>54.570000</td>\n",
       "      <td>61.600000</td>\n",
       "      <td>60.275000</td>\n",
       "    </tr>\n",
       "  </tbody>\n",
       "</table>\n",
       "</div>"
      ],
      "text/plain": [
       "       patient_zip3    population       density    age_median          male  \\\n",
       "count  12906.000000  12905.000000  12905.000000  12905.000000  12905.000000   \n",
       "mean     573.754300  20744.441237   1581.950419     40.502259     50.095180   \n",
       "std      275.447534  13886.903756   2966.305306      4.036963      1.656640   \n",
       "min      101.000000    635.545455      0.916667     20.600000     39.725000   \n",
       "25%      331.000000   9463.896552    171.857143     37.129825     49.158333   \n",
       "50%      554.000000  19154.190480    700.337500     40.639344     49.976042   \n",
       "75%      846.000000  30021.278690   1666.515385     42.934783     50.937931   \n",
       "max      999.000000  71374.131580  21172.000000     54.570000     61.600000   \n",
       "\n",
       "             female  \n",
       "count  12905.000000  \n",
       "mean      49.904900  \n",
       "std        1.656594  \n",
       "min       38.400000  \n",
       "25%       49.062069  \n",
       "50%       50.023958  \n",
       "75%       50.841667  \n",
       "max       60.275000  "
      ]
     },
     "execution_count": 37,
     "metadata": {},
     "output_type": "execute_result"
    }
   ],
   "source": [
    "selected_columns = ['patient_zip3', 'population', 'density', 'age_median', 'male', 'female']\n",
    "df_temp = df[selected_columns]\n",
    "print(df_temp.info())\n",
    "df_temp.describe()"
   ]
  },
  {
   "cell_type": "code",
   "execution_count": 13,
   "metadata": {},
   "outputs": [
    {
     "name": "stdout",
     "output_type": "stream",
     "text": [
      "12897\n",
      "9\n"
     ]
    }
   ],
   "source": [
    "c = 0\n",
    "c1 = 0\n",
    "for i in df_temp['breast_cancer_diagnosis_desc']:\n",
    "    if 'Malig' in i:\n",
    "        c+=1\n",
    "    else:\n",
    "        c1+=1\n",
    "        \n",
    "print(c)\n",
    "print(c1)\n",
    "# print(df_temp['breast_cancer_diagnosis_desc'][:100])"
   ]
  },
  {
   "cell_type": "code",
   "execution_count": 35,
   "metadata": {},
   "outputs": [
    {
     "name": "stdout",
     "output_type": "stream",
     "text": [
      "  (0, 2)\t0.2373051764245159\n",
      "  (0, 4)\t0.2376363513440987\n",
      "  (0, 26)\t0.4527332302816953\n",
      "  (0, 21)\t0.4613661681585082\n",
      "  (0, 25)\t0.5516031913570816\n",
      "  (0, 11)\t0.26879612779577944\n",
      "  (0, 10)\t0.3047485189563812\n"
     ]
    }
   ],
   "source": [
    "from sklearn.feature_extraction.text import TfidfVectorizer\n",
    "\n",
    "max_features=100\n",
    "\n",
    "# Create a TF-IDF vectorizer\n",
    "tfidf_vectorizer = TfidfVectorizer(max_features=max_features, stop_words='english')\n",
    "\n",
    "# Transform diagnosis descriptions into TF-IDF vectors\n",
    "X_tfidf = tfidf_vectorizer.fit_transform(df['breast_cancer_diagnosis_desc'])\n",
    "\n",
    "print(X_tfidf[0])"
   ]
  },
  {
   "cell_type": "code",
   "execution_count": null,
   "metadata": {},
   "outputs": [],
   "source": []
  }
 ],
 "metadata": {
  "kaggle": {
   "accelerator": "none",
   "dataSources": [
    {
     "databundleVersionId": 7469115,
     "sourceId": 65862,
     "sourceType": "competition"
    }
   ],
   "dockerImageVersionId": 30635,
   "isGpuEnabled": false,
   "isInternetEnabled": true,
   "language": "python",
   "sourceType": "notebook"
  },
  "kernelspec": {
   "display_name": "Python 3 (ipykernel)",
   "language": "python",
   "name": "python3"
  },
  "language_info": {
   "codemirror_mode": {
    "name": "ipython",
    "version": 3
   },
   "file_extension": ".py",
   "mimetype": "text/x-python",
   "name": "python",
   "nbconvert_exporter": "python",
   "pygments_lexer": "ipython3",
   "version": "3.11.5"
  }
 },
 "nbformat": 4,
 "nbformat_minor": 4
}
